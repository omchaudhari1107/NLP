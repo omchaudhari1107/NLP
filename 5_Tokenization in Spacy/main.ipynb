{
 "cells": [
  {
   "cell_type": "code",
   "execution_count": 1,
   "id": "42c484ea-dbb2-49b2-8305-44b549588815",
   "metadata": {},
   "outputs": [],
   "source": [
    "import spacy"
   ]
  },
  {
   "cell_type": "code",
   "execution_count": 2,
   "id": "343dcaa6-4159-4be0-ad3b-5c63a414e0f6",
   "metadata": {},
   "outputs": [
    {
     "name": "stdout",
     "output_type": "stream",
     "text": [
      "Let\n",
      "'s\n",
      "go\n",
      "to\n",
      "N.Y.\n",
      "!\n"
     ]
    }
   ],
   "source": [
    "nlp = spacy.blank('en')\n",
    "\n",
    "doc = nlp(\"Let's go to N.Y.!\")\n",
    "for i in doc:\n",
    "    print(i)"
   ]
  },
  {
   "cell_type": "code",
   "execution_count": 3,
   "id": "ba8b1f1e-80a8-4df9-8db6-206fec132805",
   "metadata": {},
   "outputs": [
    {
     "name": "stdout",
     "output_type": "stream",
     "text": [
      "\n",
      "\n",
      "About\n",
      "\n",
      "\n",
      "A.\n",
      "C.\n",
      "Bhaktivedanta\n",
      "Swami\n",
      "Prabhupada\n",
      "was\n",
      "a\n",
      "spiritual\n",
      ",\n",
      "philosophical\n",
      ",\n",
      "and\n",
      "religious\n",
      "teacher\n",
      "from\n",
      "India\n",
      "who\n",
      "spread\n",
      "the\n",
      "Hare\n",
      "Krishna\n",
      "mantra\n",
      "and\n",
      "the\n",
      "teachings\n",
      "of\n",
      "“\n",
      "Krishna\n",
      "consciousness\n",
      "”\n",
      "to\n",
      "the\n",
      "world\n",
      ".\n",
      "Wikipedia\n",
      "\n",
      "\n",
      "Born\n",
      ":\n",
      "1\n",
      "September\n",
      "1896\n",
      ",\n",
      "Kolkata\n",
      "\n",
      "\n",
      "Died\n",
      ":\n",
      "14\n",
      "November\n",
      "1977\n",
      "(\n",
      "age\n",
      "81\n",
      "years\n",
      ")\n",
      ",\n",
      "Vrindavan\n",
      "\n",
      "\n",
      "Spouse\n",
      ":\n",
      "Radharani\n",
      "Devi\n",
      "(\n",
      "m.\n",
      "1918\n",
      ")\n",
      "\n",
      "\n",
      "Children\n",
      ":\n",
      "Vrindavan\n",
      "Chandra\n",
      "De\n",
      ",\n",
      "Mathura\n",
      "Mohan\n",
      "De\n",
      ",\n",
      "Prayag\n",
      "Raj\n",
      "\n",
      "\n",
      "Full\n",
      "name\n",
      ":\n",
      "Abhay\n",
      "Charan\n",
      "De\n",
      "\n",
      "\n"
     ]
    }
   ],
   "source": [
    "nlp = spacy.blank('en')\n",
    "\n",
    "doc = nlp('''\n",
    "About\n",
    "A. C. Bhaktivedanta Swami Prabhupada was a spiritual, philosophical, and religious teacher from India who spread the Hare Krishna mantra and the teachings of “Krishna consciousness” to the world. Wikipedia\n",
    "Born: 1 September 1896, Kolkata\n",
    "Died: 14 November 1977 (age 81 years), Vrindavan\n",
    "Spouse: Radharani Devi (m. 1918)\n",
    "Children: Vrindavan Chandra De, Mathura Mohan De, Prayag Raj\n",
    "Full name: Abhay Charan De\n",
    "''')\n",
    "# list(doc)\n",
    "for i in doc:\n",
    "    print(i)"
   ]
  },
  {
   "cell_type": "code",
   "execution_count": 4,
   "id": "8df3444c-719a-49fc-982d-4b5dca9bb298",
   "metadata": {},
   "outputs": [
    {
     "data": {
      "text/plain": [
       "spacy.lang.en.English"
      ]
     },
     "execution_count": 4,
     "metadata": {},
     "output_type": "execute_result"
    }
   ],
   "source": [
    "type(nlp)"
   ]
  },
  {
   "cell_type": "code",
   "execution_count": 5,
   "id": "a28543bf-325a-4c29-918a-c68996a32750",
   "metadata": {},
   "outputs": [
    {
     "data": {
      "text/plain": [
       "spacy.tokens.doc.Doc"
      ]
     },
     "execution_count": 5,
     "metadata": {},
     "output_type": "execute_result"
    }
   ],
   "source": [
    "type(doc)"
   ]
  },
  {
   "cell_type": "code",
   "execution_count": 6,
   "id": "43e7af0d-4eea-4138-9df4-3752721f9001",
   "metadata": {},
   "outputs": [
    {
     "data": {
      "text/plain": [
       "spacy.tokens.span.Span"
      ]
     },
     "execution_count": 6,
     "metadata": {},
     "output_type": "execute_result"
    }
   ],
   "source": [
    "type(doc[1:6]) #  span means substring"
   ]
  },
  {
   "cell_type": "code",
   "execution_count": 7,
   "id": "44bf2c99-7dae-45d1-b329-b790c445898e",
   "metadata": {},
   "outputs": [
    {
     "data": {
      "text/plain": [
       "About\n",
       "A. C. Bhaktivedanta Swami Prabhupada"
      ]
     },
     "execution_count": 7,
     "metadata": {},
     "output_type": "execute_result"
    }
   ],
   "source": [
    "doc[1:8]"
   ]
  },
  {
   "cell_type": "code",
   "execution_count": 8,
   "id": "0b4cba97-e511-48f4-b525-7812367528db",
   "metadata": {},
   "outputs": [
    {
     "data": {
      "text/plain": [
       "About"
      ]
     },
     "execution_count": 8,
     "metadata": {},
     "output_type": "execute_result"
    }
   ],
   "source": [
    "tocken0=doc[1]\n",
    "tocken0"
   ]
  },
  {
   "cell_type": "code",
   "execution_count": 9,
   "id": "a7050d97-efb9-4f6f-9bf2-cc7d9e2be8c9",
   "metadata": {},
   "outputs": [
    {
     "data": {
      "text/plain": [
       "spacy.tokens.token.Token"
      ]
     },
     "execution_count": 9,
     "metadata": {},
     "output_type": "execute_result"
    }
   ],
   "source": [
    "type(tocken0)"
   ]
  },
  {
   "cell_type": "code",
   "execution_count": 10,
   "id": "973eb396-798d-4ccc-b85d-5c6f495fcb6f",
   "metadata": {},
   "outputs": [
    {
     "data": {
      "text/plain": [
       "['_',\n",
       " '__bytes__',\n",
       " '__class__',\n",
       " '__delattr__',\n",
       " '__dir__',\n",
       " '__doc__',\n",
       " '__eq__',\n",
       " '__format__',\n",
       " '__ge__',\n",
       " '__getattribute__',\n",
       " '__getstate__',\n",
       " '__gt__',\n",
       " '__hash__',\n",
       " '__init__',\n",
       " '__init_subclass__',\n",
       " '__le__',\n",
       " '__len__',\n",
       " '__lt__',\n",
       " '__ne__',\n",
       " '__new__',\n",
       " '__pyx_vtable__',\n",
       " '__reduce__',\n",
       " '__reduce_ex__',\n",
       " '__repr__',\n",
       " '__setattr__',\n",
       " '__sizeof__',\n",
       " '__str__',\n",
       " '__subclasshook__',\n",
       " '__unicode__',\n",
       " 'ancestors',\n",
       " 'check_flag',\n",
       " 'children',\n",
       " 'cluster',\n",
       " 'conjuncts',\n",
       " 'dep',\n",
       " 'dep_',\n",
       " 'doc',\n",
       " 'ent_id',\n",
       " 'ent_id_',\n",
       " 'ent_iob',\n",
       " 'ent_iob_',\n",
       " 'ent_kb_id',\n",
       " 'ent_kb_id_',\n",
       " 'ent_type',\n",
       " 'ent_type_',\n",
       " 'get_extension',\n",
       " 'has_dep',\n",
       " 'has_extension',\n",
       " 'has_head',\n",
       " 'has_morph',\n",
       " 'has_vector',\n",
       " 'head',\n",
       " 'i',\n",
       " 'idx',\n",
       " 'iob_strings',\n",
       " 'is_alpha',\n",
       " 'is_ancestor',\n",
       " 'is_ascii',\n",
       " 'is_bracket',\n",
       " 'is_currency',\n",
       " 'is_digit',\n",
       " 'is_left_punct',\n",
       " 'is_lower',\n",
       " 'is_oov',\n",
       " 'is_punct',\n",
       " 'is_quote',\n",
       " 'is_right_punct',\n",
       " 'is_sent_end',\n",
       " 'is_sent_start',\n",
       " 'is_space',\n",
       " 'is_stop',\n",
       " 'is_title',\n",
       " 'is_upper',\n",
       " 'lang',\n",
       " 'lang_',\n",
       " 'left_edge',\n",
       " 'lefts',\n",
       " 'lemma',\n",
       " 'lemma_',\n",
       " 'lex',\n",
       " 'lex_id',\n",
       " 'like_email',\n",
       " 'like_num',\n",
       " 'like_url',\n",
       " 'lower',\n",
       " 'lower_',\n",
       " 'morph',\n",
       " 'n_lefts',\n",
       " 'n_rights',\n",
       " 'nbor',\n",
       " 'norm',\n",
       " 'norm_',\n",
       " 'orth',\n",
       " 'orth_',\n",
       " 'pos',\n",
       " 'pos_',\n",
       " 'prefix',\n",
       " 'prefix_',\n",
       " 'prob',\n",
       " 'rank',\n",
       " 'remove_extension',\n",
       " 'right_edge',\n",
       " 'rights',\n",
       " 'sent',\n",
       " 'sent_start',\n",
       " 'sentiment',\n",
       " 'set_extension',\n",
       " 'set_morph',\n",
       " 'shape',\n",
       " 'shape_',\n",
       " 'similarity',\n",
       " 'subtree',\n",
       " 'suffix',\n",
       " 'suffix_',\n",
       " 'tag',\n",
       " 'tag_',\n",
       " 'tensor',\n",
       " 'text',\n",
       " 'text_with_ws',\n",
       " 'vector',\n",
       " 'vector_norm',\n",
       " 'vocab',\n",
       " 'whitespace_']"
      ]
     },
     "execution_count": 10,
     "metadata": {},
     "output_type": "execute_result"
    }
   ],
   "source": [
    "dir(tocken0)"
   ]
  },
  {
   "cell_type": "code",
   "execution_count": 11,
   "id": "ab439edc-0e37-43be-87c6-db6f69d1b27a",
   "metadata": {},
   "outputs": [
    {
     "data": {
      "text/plain": [
       "False"
      ]
     },
     "execution_count": 11,
     "metadata": {},
     "output_type": "execute_result"
    }
   ],
   "source": [
    "tocken0.is_digit"
   ]
  },
  {
   "cell_type": "code",
   "execution_count": 12,
   "id": "1c5ffa27-9f3b-403b-aaf0-eedd2b4aefcc",
   "metadata": {},
   "outputs": [
    {
     "data": {
      "text/plain": [
       "True"
      ]
     },
     "execution_count": 12,
     "metadata": {},
     "output_type": "execute_result"
    }
   ],
   "source": [
    "tocken0.is_title"
   ]
  },
  {
   "cell_type": "code",
   "execution_count": 13,
   "id": "b588ae33-2880-488a-a68a-afd352b9bf55",
   "metadata": {},
   "outputs": [
    {
     "data": {
      "text/plain": [
       "'Dayton high school, 8th grade students information\\n==================================================\\n\\nName\\tbirth day   \\temail\\n-----\\t------------\\t------\\nVirat   5 June, 1882    virat@kohli.com\\nMaria\\t12 April, 2001  maria@sharapova.com\\nSerena  24 June, 1998   serena@williams.com \\nJoe      1 May, 1997    joe@root.com\\n\\n\\n\\n'"
      ]
     },
     "execution_count": 13,
     "metadata": {},
     "output_type": "execute_result"
    }
   ],
   "source": [
    "with open('./students.txt') as f:\n",
    "    txt = f.read()\n",
    "txt"
   ]
  },
  {
   "cell_type": "code",
   "execution_count": 14,
   "id": "451ba650-f668-4b47-9f2f-010e0b6384e7",
   "metadata": {},
   "outputs": [
    {
     "data": {
      "text/plain": [
       "[virat@kohli.com, maria@sharapova.com, serena@williams.com, joe@root.com]"
      ]
     },
     "execution_count": 14,
     "metadata": {},
     "output_type": "execute_result"
    }
   ],
   "source": [
    "doc = nlp(txt)\n",
    "emails=list()\n",
    "for tocken in doc:\n",
    "    if tocken.like_email:\n",
    "        emails.append(tocken)\n",
    "emails"
   ]
  },
  {
   "cell_type": "code",
   "execution_count": 15,
   "id": "fac169b6-75c7-49f1-a207-2e73479b0332",
   "metadata": {},
   "outputs": [
    {
     "data": {
      "text/plain": [
       "['gimme', 'double', 'cheese', 'extra', 'large', 'healthy', 'pizza', 'prasad']"
      ]
     },
     "execution_count": 15,
     "metadata": {},
     "output_type": "execute_result"
    }
   ],
   "source": [
    "doc = nlp(\"gimme double cheese extra large healthy pizza prasad\")\n",
    "tockens = [toc.text for toc in doc]\n",
    "tockens"
   ]
  },
  {
   "cell_type": "code",
   "execution_count": 16,
   "id": "aaa07f36-8a01-493b-9aa6-f077265bf7f6",
   "metadata": {},
   "outputs": [],
   "source": [
    "# here gimme is give me thus for this type of text we can optimize the spacy"
   ]
  },
  {
   "cell_type": "code",
   "execution_count": 17,
   "id": "ed5f231e-ac2e-4c84-af5d-b8a96889099e",
   "metadata": {},
   "outputs": [
    {
     "data": {
      "text/plain": [
       "['gim',\n",
       " 'me',\n",
       " 'double',\n",
       " 'cheese',\n",
       " 'extra',\n",
       " 'large',\n",
       " 'healthy',\n",
       " 'pizza',\n",
       " 'prasad']"
      ]
     },
     "execution_count": 17,
     "metadata": {},
     "output_type": "execute_result"
    }
   ],
   "source": [
    "from spacy.symbols import ORTH\n",
    "\n",
    "nlp.tokenizer.add_special_case(\"gimme\",[\n",
    "    {ORTH:'gim'},\n",
    "    {ORTH:'me'}\n",
    "])\n",
    "doc = nlp(\"gimme double cheese extra large healthy pizza prasad\")\n",
    "tockens = [toc.text for toc in doc]\n",
    "tockens"
   ]
  },
  {
   "cell_type": "code",
   "execution_count": 18,
   "id": "e6c170d8-b86b-480c-ac2b-f4211458bb1e",
   "metadata": {},
   "outputs": [
    {
     "ename": "ValueError",
     "evalue": "[E030] Sentence boundaries unset. You can add the 'sentencizer' component to the pipeline with: `nlp.add_pipe('sentencizer')`. Alternatively, add the dependency parser or sentence recognizer, or set sentence boundaries by setting `doc[i].is_sent_start`.",
     "output_type": "error",
     "traceback": [
      "\u001b[1;31m---------------------------------------------------------------------------\u001b[0m",
      "\u001b[1;31mValueError\u001b[0m                                Traceback (most recent call last)",
      "\u001b[1;32mc:\\Users\\oc110\\Desktop\\NLP\\5_Tokenization in Spacy\\main.ipynb Cell 18\u001b[0m line \u001b[0;36m1\n\u001b[0;32m      <a href='vscode-notebook-cell:/c%3A/Users/oc110/Desktop/NLP/5_Tokenization%20in%20Spacy/main.ipynb#X23sZmlsZQ%3D%3D?line=0'>1</a>\u001b[0m doc \u001b[39m=\u001b[39m nlp(\u001b[39m'''\u001b[39m\n\u001b[0;32m      <a href='vscode-notebook-cell:/c%3A/Users/oc110/Desktop/NLP/5_Tokenization%20in%20Spacy/main.ipynb#X23sZmlsZQ%3D%3D?line=1'>2</a>\u001b[0m \u001b[39mAbout\u001b[39m\n\u001b[0;32m      <a href='vscode-notebook-cell:/c%3A/Users/oc110/Desktop/NLP/5_Tokenization%20in%20Spacy/main.ipynb#X23sZmlsZQ%3D%3D?line=2'>3</a>\u001b[0m \u001b[39mA. C. Bhaktivedanta Swami Prabhupada was a spiritual, philosophical, and religious teacher from India who spread the Hare Krishna mantra and the teachings of “Krishna consciousness” to the world. Wikipedia\u001b[39m\n\u001b[1;32m   (...)\u001b[0m\n\u001b[0;32m      <a href='vscode-notebook-cell:/c%3A/Users/oc110/Desktop/NLP/5_Tokenization%20in%20Spacy/main.ipynb#X23sZmlsZQ%3D%3D?line=7'>8</a>\u001b[0m \u001b[39mFull name: Abhay Charan De\u001b[39m\n\u001b[0;32m      <a href='vscode-notebook-cell:/c%3A/Users/oc110/Desktop/NLP/5_Tokenization%20in%20Spacy/main.ipynb#X23sZmlsZQ%3D%3D?line=8'>9</a>\u001b[0m \u001b[39m'''\u001b[39m)\n\u001b[1;32m---> <a href='vscode-notebook-cell:/c%3A/Users/oc110/Desktop/NLP/5_Tokenization%20in%20Spacy/main.ipynb#X23sZmlsZQ%3D%3D?line=10'>11</a>\u001b[0m \u001b[39mfor\u001b[39;00m sen \u001b[39min\u001b[39;00m doc\u001b[39m.\u001b[39msents:\n\u001b[0;32m     <a href='vscode-notebook-cell:/c%3A/Users/oc110/Desktop/NLP/5_Tokenization%20in%20Spacy/main.ipynb#X23sZmlsZQ%3D%3D?line=11'>12</a>\u001b[0m     \u001b[39mprint\u001b[39m(sen)\n",
      "File \u001b[1;32mc:\\Users\\oc110\\AppData\\Local\\Programs\\Python\\Python311\\Lib\\site-packages\\spacy\\tokens\\doc.pyx:923\u001b[0m, in \u001b[0;36msents\u001b[1;34m()\u001b[0m\n",
      "\u001b[1;31mValueError\u001b[0m: [E030] Sentence boundaries unset. You can add the 'sentencizer' component to the pipeline with: `nlp.add_pipe('sentencizer')`. Alternatively, add the dependency parser or sentence recognizer, or set sentence boundaries by setting `doc[i].is_sent_start`."
     ]
    }
   ],
   "source": [
    "doc = nlp('''\n",
    "About\n",
    "A. C. Bhaktivedanta Swami Prabhupada was a spiritual, philosophical, and religious teacher from India who spread the Hare Krishna mantra and the teachings of “Krishna consciousness” to the world. Wikipedia\n",
    "Born: 1 September 1896, Kolkata\n",
    "Died: 14 November 1977 (age 81 years), Vrindavan\n",
    "Spouse: Radharani Devi (m. 1918)\n",
    "Children: Vrindavan Chandra De, Mathura Mohan De, Prayag Raj\n",
    "Full name: Abhay Charan De\n",
    "''')\n",
    "\n",
    "for sen in doc.sents:\n",
    "    print(sen)"
   ]
  },
  {
   "cell_type": "code",
   "execution_count": null,
   "id": "b25e8ee0-9af8-4516-9fb2-0a9caa1d1db1",
   "metadata": {},
   "outputs": [
    {
     "data": {
      "text/plain": [
       "[]"
      ]
     },
     "execution_count": 52,
     "metadata": {},
     "output_type": "execute_result"
    }
   ],
   "source": [
    "# above error indicate that my nlp pipeline is empty \n",
    "nlp.pipe_names"
   ]
  },
  {
   "cell_type": "code",
   "execution_count": 22,
   "id": "68d48522-f6ff-46e9-a792-546d16e3660f",
   "metadata": {},
   "outputs": [
    {
     "data": {
      "text/plain": [
       "<spacy.pipeline.sentencizer.Sentencizer at 0x1a0e57c8710>"
      ]
     },
     "execution_count": 22,
     "metadata": {},
     "output_type": "execute_result"
    }
   ],
   "source": [
    "nlp.add_pipe('sentencizer')"
   ]
  },
  {
   "cell_type": "code",
   "execution_count": 21,
   "id": "10988676-9279-4c26-9e30-7b84500c4a6f",
   "metadata": {},
   "outputs": [
    {
     "data": {
      "text/plain": [
       "[]"
      ]
     },
     "execution_count": 21,
     "metadata": {},
     "output_type": "execute_result"
    }
   ],
   "source": [
    "nlp.pipe_names"
   ]
  },
  {
   "cell_type": "code",
   "execution_count": null,
   "id": "33e5ecac-ccd4-4ee6-846c-99123012475d",
   "metadata": {},
   "outputs": [
    {
     "data": {
      "text/plain": [
       "[\n",
       " About\n",
       " A. C. Bhaktivedanta Swami Prabhupada was a spiritual, philosophical, and religious teacher from India who spread the Hare Krishna mantra and the teachings of “Krishna consciousness” to the world.,\n",
       " Wikipedia\n",
       " Born: 1 September 1896, Kolkata\n",
       " Died: 14 November 1977 (age 81 years), Vrindavan\n",
       " Spouse: Radharani Devi (m. 1918)\n",
       " Children: Vrindavan Chandra De, Mathura Mohan De, Prayag Raj\n",
       " Full name: Abhay Charan De]"
      ]
     },
     "execution_count": 61,
     "metadata": {},
     "output_type": "execute_result"
    }
   ],
   "source": [
    "doc = nlp('''\n",
    "About\n",
    "A. C. Bhaktivedanta Swami Prabhupada was a spiritual, philosophical, and religious teacher from India who spread the Hare Krishna mantra and the teachings of “Krishna consciousness” to the world. Wikipedia\n",
    "Born: 1 September 1896, Kolkata\n",
    "Died: 14 November 1977 (age 81 years), Vrindavan\n",
    "Spouse: Radharani Devi (m. 1918)\n",
    "Children: Vrindavan Chandra De, Mathura Mohan De, Prayag Raj\n",
    "Full name: Abhay Charan De\n",
    "''')\n",
    "[sen for sen in doc.sents]\n",
    "# for sen in doc.sents:\n",
    "#     print(sen)"
   ]
  },
  {
   "cell_type": "code",
   "execution_count": 19,
   "id": "eeea9664-6752-45d1-859e-dbe22e7d865b",
   "metadata": {},
   "outputs": [
    {
     "data": {
      "text/plain": [
       "\n",
       "Look for data to help you address the question. Governments are good\n",
       "sources because data from public research is often freely available. Good\n",
       "places to start include http://www.data.gov/, and http://www.science.\n",
       "gov/, and in the United Kingdom, http://data.gov.uk/.\n",
       "Two of my favorite data sets are the General Social Survey at http://www3.norc.org/gss+website/, \n",
       "and the European Social Survey at http://www.europeansocialsurvey.org/."
      ]
     },
     "execution_count": 19,
     "metadata": {},
     "output_type": "execute_result"
    }
   ],
   "source": [
    "text='''\n",
    "Look for data to help you address the question. Governments are good\n",
    "sources because data from public research is often freely available. Good\n",
    "places to start include http://www.data.gov/, and http://www.science.\n",
    "gov/, and in the United Kingdom, http://data.gov.uk/.\n",
    "Two of my favorite data sets are the General Social Survey at http://www3.norc.org/gss+website/, \n",
    "and the European Social Survey at http://www.europeansocialsurvey.org/.\n",
    "'''\n",
    "nlp=spacy.blank('en')\n",
    "doc=nlp(text)\n",
    "doc"
   ]
  },
  {
   "cell_type": "code",
   "execution_count": 23,
   "id": "eb208d93-0a4a-4a6d-b44c-7fc7ba7d7de5",
   "metadata": {},
   "outputs": [
    {
     "data": {
      "text/plain": [
       "[http://www.data.gov/,\n",
       " http://www.science,\n",
       " http://data.gov.uk/.,\n",
       " http://www3.norc.org/gss+website/,\n",
       " http://www.europeansocialsurvey.org/.]"
      ]
     },
     "execution_count": 23,
     "metadata": {},
     "output_type": "execute_result"
    }
   ],
   "source": [
    "urls=list()\n",
    "for token in doc:\n",
    "    if token.like_url:\n",
    "        urls.append(token)\n",
    "urls"
   ]
  },
  {
   "cell_type": "code",
   "execution_count": 27,
   "id": "6e48bd12-aabf-42ec-8aab-6e6bcdf2b61b",
   "metadata": {},
   "outputs": [],
   "source": [
    "transactions = \"Tony gave two $ to Peter, Bruce gave 500 € to Steve\"\n",
    "doc=nlp(transactions)"
   ]
  },
  {
   "cell_type": "code",
   "execution_count": 28,
   "id": "98d47175-93a3-4718-ae4e-08730b11e599",
   "metadata": {},
   "outputs": [
    {
     "name": "stdout",
     "output_type": "stream",
     "text": [
      "two $\n",
      "500 €\n"
     ]
    }
   ],
   "source": [
    "for token in doc:\n",
    "    # print(token.i)\n",
    "    if token.like_num and doc[token.i+1].is_currency:\n",
    "        print(token.text,doc[token.i+1])"
   ]
  },
  {
   "cell_type": "code",
   "execution_count": 30,
   "metadata": {},
   "outputs": [
    {
     "data": {
      "text/plain": [
       "['_',\n",
       " '__bytes__',\n",
       " '__class__',\n",
       " '__delattr__',\n",
       " '__dir__',\n",
       " '__doc__',\n",
       " '__eq__',\n",
       " '__format__',\n",
       " '__ge__',\n",
       " '__getattribute__',\n",
       " '__getitem__',\n",
       " '__getstate__',\n",
       " '__gt__',\n",
       " '__hash__',\n",
       " '__init__',\n",
       " '__init_subclass__',\n",
       " '__iter__',\n",
       " '__le__',\n",
       " '__len__',\n",
       " '__lt__',\n",
       " '__ne__',\n",
       " '__new__',\n",
       " '__pyx_vtable__',\n",
       " '__reduce__',\n",
       " '__reduce_ex__',\n",
       " '__repr__',\n",
       " '__setattr__',\n",
       " '__setstate__',\n",
       " '__sizeof__',\n",
       " '__str__',\n",
       " '__subclasshook__',\n",
       " '__unicode__',\n",
       " '_bulk_merge',\n",
       " '_context',\n",
       " '_get_array_attrs',\n",
       " '_realloc',\n",
       " '_vector',\n",
       " '_vector_norm',\n",
       " 'cats',\n",
       " 'char_span',\n",
       " 'copy',\n",
       " 'count_by',\n",
       " 'doc',\n",
       " 'ents',\n",
       " 'extend_tensor',\n",
       " 'from_array',\n",
       " 'from_bytes',\n",
       " 'from_dict',\n",
       " 'from_disk',\n",
       " 'from_docs',\n",
       " 'from_json',\n",
       " 'get_extension',\n",
       " 'get_lca_matrix',\n",
       " 'has_annotation',\n",
       " 'has_extension',\n",
       " 'has_unknown_spaces',\n",
       " 'has_vector',\n",
       " 'is_nered',\n",
       " 'is_parsed',\n",
       " 'is_sentenced',\n",
       " 'is_tagged',\n",
       " 'lang',\n",
       " 'lang_',\n",
       " 'mem',\n",
       " 'noun_chunks',\n",
       " 'noun_chunks_iterator',\n",
       " 'remove_extension',\n",
       " 'retokenize',\n",
       " 'sentiment',\n",
       " 'sents',\n",
       " 'set_ents',\n",
       " 'set_extension',\n",
       " 'similarity',\n",
       " 'spans',\n",
       " 'tensor',\n",
       " 'text',\n",
       " 'text_with_ws',\n",
       " 'to_array',\n",
       " 'to_bytes',\n",
       " 'to_dict',\n",
       " 'to_disk',\n",
       " 'to_json',\n",
       " 'to_utf8_array',\n",
       " 'user_data',\n",
       " 'user_hooks',\n",
       " 'user_span_hooks',\n",
       " 'user_token_hooks',\n",
       " 'vector',\n",
       " 'vector_norm',\n",
       " 'vocab']"
      ]
     },
     "execution_count": 30,
     "metadata": {},
     "output_type": "execute_result"
    }
   ],
   "source": [
    "dir(doc)"
   ]
  }
 ],
 "metadata": {
  "kernelspec": {
   "display_name": "Python 3 (ipykernel)",
   "language": "python",
   "name": "python3"
  },
  "language_info": {
   "codemirror_mode": {
    "name": "ipython",
    "version": 3
   },
   "file_extension": ".py",
   "mimetype": "text/x-python",
   "name": "python",
   "nbconvert_exporter": "python",
   "pygments_lexer": "ipython3",
   "version": "3.11.5"
  },
  "widgets": {
   "application/vnd.jupyter.widget-state+json": {
    "state": {},
    "version_major": 2,
    "version_minor": 0
   }
  }
 },
 "nbformat": 4,
 "nbformat_minor": 5
}
