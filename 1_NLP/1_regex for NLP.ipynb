{
 "cells": [
  {
   "cell_type": "code",
   "execution_count": 13,
   "id": "060fcc9c-6b31-4380-95d3-49f555e9daec",
   "metadata": {},
   "outputs": [],
   "source": [
    "import re"
   ]
  },
  {
   "cell_type": "code",
   "execution_count": 14,
   "id": "4ef8789e-265d-4186-b926-d4f9cb26f706",
   "metadata": {},
   "outputs": [],
   "source": [
    "ch1='911 is my number and email is xyz@gmail.com'\n",
    "ch2='my num is (911)-12345 also email is abcs9efghi@yahoo.ai'\n",
    "ch3='i dont give a shit about it 911, so email is a@b.python'"
   ]
  },
  {
   "cell_type": "code",
   "execution_count": 15,
   "id": "9f5fe82d-4709-4fe3-8dbf-8465123f725a",
   "metadata": {},
   "outputs": [
    {
     "name": "stdout",
     "output_type": "stream",
     "text": [
      "['911', 'xyz@gmail.com']\n",
      "['(911)-12345', 'abcs9efghi@yahoo.ai']\n",
      "['911', 'a@b.python']\n"
     ]
    }
   ],
   "source": [
    "pattern = '\\d{3}|\\(\\d{3}\\)-\\d{5}|[a-zA-Z0-9]*@[a-zA-Z0-9]*\\.[a-zA-Z]*'\n",
    "print(re.findall(pattern,ch1))\n",
    "print(re.findall(pattern,ch2))\n",
    "print(re.findall(pattern,ch3))"
   ]
  },
  {
   "cell_type": "code",
   "execution_count": 16,
   "id": "64fcadd6-aba3-4b49-ba93-049884c41738",
   "metadata": {},
   "outputs": [],
   "source": [
    "chat1='codebasics: Hello, I am having an issue with my order #412889912'\n",
    "chat2='codebasics: I have a problem with my order number 4128899123'\n",
    "chat3='codebasics: My order 412889912 is having an issue, I was charged 300$ when online it says 280$'"
   ]
  },
  {
   "cell_type": "code",
   "execution_count": 17,
   "id": "d07c4974-22d6-4923-9746-28ad36bea81d",
   "metadata": {},
   "outputs": [
    {
     "name": "stdout",
     "output_type": "stream",
     "text": [
      "['412889912']\n",
      "['4128899123']\n",
      "['412889912']\n"
     ]
    }
   ],
   "source": [
    "pattern = 'order[\\D]*(\\d*)'\n",
    "print(re.findall(pattern,chat1))\n",
    "print(re.findall(pattern,chat2))\n",
    "print(re.findall(pattern,chat3))"
   ]
  },
  {
   "cell_type": "code",
   "execution_count": 18,
   "id": "c213b28b-d97e-4a55-80b5-96b24ecfa913",
   "metadata": {},
   "outputs": [],
   "source": [
    "text ='''\n",
    "Title\tFounder-Acharya of the International Society for Krishna Consciousness\n",
    "Personal\n",
    "Born\tAbhay Charan De\n",
    "1 September 1896\n",
    "Calcutta, Bengal Presidency, British India\n",
    "Died\t14 November 1977 (aged 81)\n",
    "Vrindavan, India\n",
    "Resting place\tSrila Prabhupada's Samadhi Mandir, ISKCON Vrindavan\n",
    "27.57196°N 77.67729°E\n",
    "Religion\tHinduism\n",
    "Nationality\tIndian\n",
    "Parents\t\n",
    "Gour Mohan De (father)\n",
    "Rajani De (mother)\n",
    "'''"
   ]
  },
  {
   "cell_type": "code",
   "execution_count": 19,
   "id": "f5895780-ffbc-4e99-80a0-31cd23359208",
   "metadata": {},
   "outputs": [
    {
     "data": {
      "text/plain": [
       "['81']"
      ]
     },
     "execution_count": 19,
     "metadata": {},
     "output_type": "execute_result"
    }
   ],
   "source": [
    "age = 'aged (\\d+)'\n",
    "match = re.findall(age,text)\n",
    "match"
   ]
  },
  {
   "cell_type": "code",
   "execution_count": 20,
   "id": "624b1a44-7198-42c0-a332-de2bde908891",
   "metadata": {},
   "outputs": [
    {
     "data": {
      "text/plain": [
       "'Founder-Acharya of the International Society for Krishna Consciousness'"
      ]
     },
     "execution_count": 20,
     "metadata": {},
     "output_type": "execute_result"
    }
   ],
   "source": [
    "title = 'Title(.*)'\n",
    "match = re.findall(title,text)\n",
    "match[0].strip()"
   ]
  },
  {
   "cell_type": "code",
   "execution_count": 21,
   "id": "ef5ffd6e-8f31-4b34-a2c0-52d9cb8c92d0",
   "metadata": {},
   "outputs": [
    {
     "data": {
      "text/plain": [
       "'Abhay Charan De'"
      ]
     },
     "execution_count": 21,
     "metadata": {},
     "output_type": "execute_result"
    }
   ],
   "source": [
    "born = 'Born(.*)'\n",
    "match = re.findall(born,text)\n",
    "match[0].strip()"
   ]
  },
  {
   "cell_type": "code",
   "execution_count": 22,
   "id": "a56c4f92-76c9-48b9-b208-d2b972eb8de8",
   "metadata": {},
   "outputs": [
    {
     "data": {
      "text/plain": [
       "'1 September 1896'"
      ]
     },
     "execution_count": 22,
     "metadata": {},
     "output_type": "execute_result"
    }
   ],
   "source": [
    "birth_date = 'Born.*\\n(.*)'\n",
    "match = re.findall(birth_date,text)\n",
    "match[0].strip()"
   ]
  },
  {
   "cell_type": "code",
   "execution_count": 23,
   "id": "b0f17990-760e-44bd-9261-4d7d5b5812c0",
   "metadata": {},
   "outputs": [
    {
     "data": {
      "text/plain": [
       "['Calcutta, Bengal Presidency, British India']"
      ]
     },
     "execution_count": 23,
     "metadata": {},
     "output_type": "execute_result"
    }
   ],
   "source": [
    "birth_place = 'Born.*\\n.*\\n(.*)'\n",
    "match = re.findall(birth_place,text)\n",
    "match"
   ]
  },
  {
   "cell_type": "code",
   "execution_count": 29,
   "id": "963cc251-cfee-4482-a227-f436d4219069",
   "metadata": {},
   "outputs": [],
   "source": [
    "def get_pattern_match(pattern,text):\n",
    "    match = re.findall(pattern,text)\n",
    "    if match:\n",
    "        return match[0]"
   ]
  },
  {
   "cell_type": "code",
   "execution_count": 25,
   "id": "535367ca-57da-4de6-beef-80fad61baada",
   "metadata": {},
   "outputs": [
    {
     "data": {
      "text/plain": [
       "'Calcutta, Bengal Presidency, British India'"
      ]
     },
     "execution_count": 25,
     "metadata": {},
     "output_type": "execute_result"
    }
   ],
   "source": [
    "get_pattern_match('Born.*\\n.*\\n(.*)',text)"
   ]
  },
  {
   "cell_type": "code",
   "execution_count": 37,
   "id": "a7540a7d-66e8-42dd-8625-54b1178b7b13",
   "metadata": {},
   "outputs": [],
   "source": [
    "def get_info(text):\n",
    "    title = get_pattern_match('Title(.*)',text)\n",
    "    name = get_pattern_match('Born(.*)',text)\n",
    "    age = get_pattern_match(\"aged (\\d+)\",text)\n",
    "    birth_date = get_pattern_match('Born.*\\n(.*)',text)\n",
    "    birth_place =  get_pattern_match('Born.*\\n.*\\n(.*)',text)\n",
    "    return {\n",
    "        \"Title\":title,\n",
    "        \"Name\":name,\n",
    "        \"age\":age,\n",
    "        \"Bith Date\":birth_date,\n",
    "        \"Birth Place\":birth_place,\n",
    "    }"
   ]
  },
  {
   "cell_type": "code",
   "execution_count": 38,
   "id": "85e13c7a-35d1-47af-992c-2ba6e1a31694",
   "metadata": {},
   "outputs": [
    {
     "data": {
      "text/plain": [
       "{'Title': '\\tFounder-Acharya of the International Society for Krishna Consciousness',\n",
       " 'Name': '\\tAbhay Charan De',\n",
       " 'age': '81',\n",
       " 'Bith Date': '1 September 1896',\n",
       " 'Birth Place': 'Calcutta, Bengal Presidency, British India'}"
      ]
     },
     "execution_count": 38,
     "metadata": {},
     "output_type": "execute_result"
    }
   ],
   "source": [
    "get_info(text)"
   ]
  },
  {
   "cell_type": "code",
   "execution_count": 40,
   "id": "ae4f34a3-8e0d-43a0-be18-6b057c5d8eb1",
   "metadata": {},
   "outputs": [],
   "source": [
    "# Ex:"
   ]
  },
  {
   "cell_type": "code",
   "execution_count": 41,
   "id": "0fa218e1-78d7-482b-9965-779474879d24",
   "metadata": {},
   "outputs": [
    {
     "data": {
      "text/plain": [
       "['elonmusk', 'teslarati', 'dummy_tesla', 'dummy_2_tesla']"
      ]
     },
     "execution_count": 41,
     "metadata": {},
     "output_type": "execute_result"
    }
   ],
   "source": [
    "text = '''\n",
    "Follow our leader Elon musk on twitter here: https://twitter.com/elonmusk, more information \n",
    "on Tesla's products can be found at https://www.tesla.com/. Also here are leading influencers \n",
    "for tesla related news,\n",
    "https://twitter.com/teslarati\n",
    "https://twitter.com/dummy_tesla\n",
    "https://twitter.com/dummy_2_tesla\n",
    "'''\n",
    "pattern = 'https:\\/\\/twitter\\.com\\/([A-z0-9]*)'\n",
    "\n",
    "re.findall(pattern, text)"
   ]
  },
  {
   "cell_type": "code",
   "execution_count": 42,
   "id": "e8850797-5f06-4074-baf9-72a6beb66efc",
   "metadata": {},
   "outputs": [
    {
     "data": {
      "text/plain": [
       "[('Financial instruments that potentially subject us to a concentration of credit risk consist of cash, cash equivalents, marketable securities,\\nrestricted cash, accounts receivable, convertible note hedges, and interest rate swaps. Our cash balances are primarily invested in money market funds\\nor on deposit at high credit quality financial institutions in the U.S. These deposits are typically in excess of insured limits. As of September 30, 2021\\nand December 31, 2020, no entity represented 10% or more of our total accounts receivable balance. The risk of concentration for our convertible note\\nhedges and interest rate swaps is mitigated by transacting with several highly-rated multinational banks.',\n",
       "  ''),\n",
       " ('',\n",
       "  'We are dependent on our suppliers, including single source suppliers, and the inability of these suppliers to deliver necessary components of our\\nproducts in a timely manner at prices, quality levels and volumes acceptable to us, or our inability to efficiently manage these components from these\\nsuppliers, could have a material adverse effect on our business, prospects, financial condition and operating results.')]"
      ]
     },
     "execution_count": 42,
     "metadata": {},
     "output_type": "execute_result"
    }
   ],
   "source": [
    "text = '''\n",
    "Concentration of Risk: Credit Risk\n",
    "Financial instruments that potentially subject us to a concentration of credit risk consist of cash, cash equivalents, marketable securities,\n",
    "restricted cash, accounts receivable, convertible note hedges, and interest rate swaps. Our cash balances are primarily invested in money market funds\n",
    "or on deposit at high credit quality financial institutions in the U.S. These deposits are typically in excess of insured limits. As of September 30, 2021\n",
    "and December 31, 2020, no entity represented 10% or more of our total accounts receivable balance. The risk of concentration for our convertible note\n",
    "hedges and interest rate swaps is mitigated by transacting with several highly-rated multinational banks.\n",
    "Concentration of Risk: Supply Risk\n",
    "We are dependent on our suppliers, including single source suppliers, and the inability of these suppliers to deliver necessary components of our\n",
    "products in a timely manner at prices, quality levels and volumes acceptable to us, or our inability to efficiently manage these components from these\n",
    "suppliers, could have a material adverse effect on our business, prospects, financial condition and operating results.\n",
    "'''\n",
    "pattern = 'Concentration of Risk: Credit Risk\\n(.*\\n.*\\n.*\\n.*\\n.*)|Concentration of Risk: Supply Risk\\n(.*\\n.*\\n.*)'\n",
    "\n",
    "re.findall(pattern, text)"
   ]
  },
  {
   "cell_type": "code",
   "execution_count": 43,
   "id": "25c7eaa2-da84-420e-9aaa-aee9bd0b9ea5",
   "metadata": {},
   "outputs": [
    {
     "data": {
      "text/plain": [
       "['2021 Q1', '2021 S1']"
      ]
     },
     "execution_count": 43,
     "metadata": {},
     "output_type": "execute_result"
    }
   ],
   "source": [
    "text = '''\n",
    "Tesla's gross cost of operating lease vehicles in FY2021 Q1 was $4.85 billion.\n",
    "BMW's gross cost of operating vehicles in FY2021 S1 was $8 billion.\n",
    "'''\n",
    "\n",
    "pattern = 'FY(.\\d*.[A-z0-9]*)'\n",
    "matches = re.findall(pattern, text)\n",
    "matches"
   ]
  }
 ],
 "metadata": {
  "kernelspec": {
   "display_name": "Python 3 (ipykernel)",
   "language": "python",
   "name": "python3"
  },
  "language_info": {
   "codemirror_mode": {
    "name": "ipython",
    "version": 3
   },
   "file_extension": ".py",
   "mimetype": "text/x-python",
   "name": "python",
   "nbconvert_exporter": "python",
   "pygments_lexer": "ipython3",
   "version": "3.11.5"
  },
  "widgets": {
   "application/vnd.jupyter.widget-state+json": {
    "state": {},
    "version_major": 2,
    "version_minor": 0
   }
  }
 },
 "nbformat": 4,
 "nbformat_minor": 5
}
