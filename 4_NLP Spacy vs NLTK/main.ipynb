{
 "cells": [
  {
   "cell_type": "code",
   "execution_count": 10,
   "id": "d269c0c8-c487-40e6-a99a-4eb1f34efda7",
   "metadata": {},
   "outputs": [],
   "source": [
    "import spacy \n",
    "# its object oritented\n",
    "# spacy is user friendly\n",
    "# Perfect for app devlopers"
   ]
  },
  {
   "cell_type": "code",
   "execution_count": 9,
   "id": "af0a2733-0760-4aff-9e6b-0fd5efbd888e",
   "metadata": {},
   "outputs": [
    {
     "name": "stdout",
     "output_type": "stream",
     "text": [
      "Hello every one its mr. Om Chaudhari.\n",
      "Hardik is gandu\n"
     ]
    }
   ],
   "source": [
    "nlp = spacy.load('en_core_web_sm')\n",
    "\n",
    "doc = nlp('Hello every one its mr. Om Chaudhari. Hardik is gandu')\n",
    "\n",
    "# Sentence tokenization\n",
    "for sen in doc.sents:\n",
    "    print(sen)"
   ]
  },
  {
   "cell_type": "code",
   "execution_count": 12,
   "id": "ed628976-dda5-4c50-9e51-8f686dee50b9",
   "metadata": {},
   "outputs": [
    {
     "name": "stdout",
     "output_type": "stream",
     "text": [
      "Hello\n",
      "every\n",
      "one\n",
      "its\n",
      "mr\n",
      ".\n",
      "Om\n",
      "Chaudhari\n",
      ".\n",
      "Hardik\n",
      "is\n",
      "gandu\n"
     ]
    }
   ],
   "source": [
    "# word tokenization\n",
    "for sen in doc.sents:\n",
    "    for word in sen:\n",
    "        print(word)"
   ]
  },
  {
   "cell_type": "code",
   "execution_count": 29,
   "id": "12f24a1e-5b96-48c7-a865-1dc422ff65b8",
   "metadata": {},
   "outputs": [
    {
     "name": "stdout",
     "output_type": "stream",
     "text": [
      "showing info https://raw.githubusercontent.com/nltk/nltk_data/gh-pages/index.xml\n"
     ]
    },
    {
     "data": {
      "text/plain": [
       "True"
      ]
     },
     "execution_count": 29,
     "metadata": {},
     "output_type": "execute_result"
    }
   ],
   "source": [
    "import nltk\n",
    "nltk.download()"
   ]
  },
  {
   "cell_type": "code",
   "execution_count": 25,
   "id": "0f8124a4-a942-44c7-ab79-6b14425b38c3",
   "metadata": {},
   "outputs": [],
   "source": [
    "from nltk.tokenize import sent_tokenize\n",
    "# its string processing library\n",
    "# nltk is less user friendly compared to spacy\n",
    "# perfect for reserchers"
   ]
  },
  {
   "cell_type": "code",
   "execution_count": 28,
   "id": "8896f0ef-42d6-4a64-948c-eeca59276ed3",
   "metadata": {},
   "outputs": [
    {
     "ename": "NameError",
     "evalue": "name 'sent_tokanize' is not defined",
     "output_type": "error",
     "traceback": [
      "\u001b[1;31m---------------------------------------------------------------------------\u001b[0m",
      "\u001b[1;31mNameError\u001b[0m                                 Traceback (most recent call last)",
      "Cell \u001b[1;32mIn[28], line 1\u001b[0m\n\u001b[1;32m----> 1\u001b[0m \u001b[43msent_tokanize\u001b[49m(\u001b[38;5;124m'\u001b[39m\u001b[38;5;124mHello every one its mr. Om Chaudhari. Hardik is gandu\u001b[39m\u001b[38;5;124m'\u001b[39m)\n",
      "\u001b[1;31mNameError\u001b[0m: name 'sent_tokanize' is not defined"
     ]
    }
   ],
   "source": [
    "sent_tokanize('Hello every one its mr. Om Chaudhari. Hardik is gandu')"
   ]
  }
 ],
 "metadata": {
  "kernelspec": {
   "display_name": "Python 3 (ipykernel)",
   "language": "python",
   "name": "python3"
  },
  "language_info": {
   "codemirror_mode": {
    "name": "ipython",
    "version": 3
   },
   "file_extension": ".py",
   "mimetype": "text/x-python",
   "name": "python",
   "nbconvert_exporter": "python",
   "pygments_lexer": "ipython3",
   "version": "3.11.5"
  },
  "widgets": {
   "application/vnd.jupyter.widget-state+json": {
    "state": {},
    "version_major": 2,
    "version_minor": 0
   }
  }
 },
 "nbformat": 4,
 "nbformat_minor": 5
}
